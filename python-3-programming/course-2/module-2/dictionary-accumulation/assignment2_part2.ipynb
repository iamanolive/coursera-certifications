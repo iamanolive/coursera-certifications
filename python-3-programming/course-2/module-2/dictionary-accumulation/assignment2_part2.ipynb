{
 "cells": [
  {
   "cell_type": "markdown",
   "id": "437e9c60",
   "metadata": {
    "deletable": false,
    "editable": false,
    "nbgrader": {
     "cell_type": "markdown",
     "checksum": "4fd27aaa671de5a54c86a55e1d62c57a",
     "grade": false,
     "grade_id": "cell-f8cbca3c7e813df8",
     "locked": true,
     "schema_version": 3,
     "solution": false,
     "task": false
    }
   },
   "source": [
    "# Assignment 2 (part two)\n",
    "\n",
    "Dictionary Accumulation"
   ]
  },
  {
   "cell_type": "markdown",
   "id": "08daaac9",
   "metadata": {
    "deletable": false,
    "editable": false,
    "nbgrader": {
     "cell_type": "markdown",
     "checksum": "e71edd1fe305a2dbbd0315aa8e52d43b",
     "grade": false,
     "grade_id": "cell-6bdc6f3562788820",
     "locked": true,
     "schema_version": 3,
     "solution": false,
     "task": false
    }
   },
   "source": [
    "The dictionary `Junior` shows a schedule for a junior year semester. The key is the course name and the value is the number of credits. Find the total number of credits taken this semester and assign it to the variable `credits`. Do not hardcode this – use dictionary accumulation!"
   ]
  },
  {
   "cell_type": "code",
   "execution_count": 2,
   "id": "d306c66a",
   "metadata": {
    "deletable": false,
    "nbgrader": {
     "cell_type": "code",
     "checksum": "cfae845c1b41535610b4a2621864b07f",
     "grade": false,
     "grade_id": "cell-07e7b31bf90a1f97",
     "locked": false,
     "schema_version": 3,
     "solution": true,
     "task": false
    },
    "tags": []
   },
   "outputs": [
    {
     "name": "stdout",
     "output_type": "stream",
     "text": [
      "18\n"
     ]
    }
   ],
   "source": [
    "Junior = {'SI 206':4, 'SI 310':4, 'BL 300':3, 'TO 313':3, 'BCOM 350':1, 'MO 300':3}\n",
    "credits = 0\n",
    "\n",
    "for course in Junior:\n",
    "    credits += Junior[course]\n",
    "\n",
    "print(credits)"
   ]
  },
  {
   "cell_type": "code",
   "execution_count": null,
   "id": "c5b58c47",
   "metadata": {
    "deletable": false,
    "editable": false,
    "nbgrader": {
     "cell_type": "code",
     "checksum": "f50d6bd6af97cd9920eb3c74489eb57e",
     "grade": true,
     "grade_id": "cell-c8fa510d6d4f279a",
     "locked": true,
     "points": 1,
     "schema_version": 3,
     "solution": false,
     "task": false
    }
   },
   "outputs": [],
   "source": []
  },
  {
   "cell_type": "markdown",
   "id": "ed9240aa",
   "metadata": {
    "deletable": false,
    "editable": false,
    "nbgrader": {
     "cell_type": "markdown",
     "checksum": "069870d9888f03e808c342b7a755ef07",
     "grade": false,
     "grade_id": "cell-b6f330f048c8e99d",
     "locked": true,
     "schema_version": 3,
     "solution": false,
     "task": false
    }
   },
   "source": [
    "Create a dictionary, `freq`, that displays each character in string `str1` as the key and its frequency as the value."
   ]
  },
  {
   "cell_type": "code",
   "execution_count": 4,
   "id": "ef54d481",
   "metadata": {
    "deletable": false,
    "nbgrader": {
     "cell_type": "code",
     "checksum": "070c8fd2df7a884e739332f86b077872",
     "grade": false,
     "grade_id": "cell-c9fd340570daa577",
     "locked": false,
     "schema_version": 3,
     "solution": true,
     "task": false
    },
    "tags": []
   },
   "outputs": [
    {
     "name": "stdout",
     "output_type": "stream",
     "text": [
      "{'p': 9, 'e': 8, 't': 1, 'r': 3, ' ': 7, 'i': 3, 'c': 3, 'k': 3, 'd': 2, 'a': 1, 'o': 1, 'f': 1, 'l': 1, 's': 1}\n"
     ]
    }
   ],
   "source": [
    "str1 = 'peter piper picked a peck of pickled peppers'\n",
    "freq = {}\n",
    "\n",
    "for character in str1:\n",
    "    if character not in freq:\n",
    "        freq[character] = 0\n",
    "    freq[character] += 1\n",
    "\n",
    "print(freq)"
   ]
  },
  {
   "cell_type": "code",
   "execution_count": null,
   "id": "b956e39a",
   "metadata": {
    "deletable": false,
    "editable": false,
    "nbgrader": {
     "cell_type": "code",
     "checksum": "4246d3591ff6a421228dbc465d4ac892",
     "grade": true,
     "grade_id": "cell-eb6028eb9928ebb3",
     "locked": true,
     "points": 1,
     "schema_version": 3,
     "solution": false,
     "task": false
    }
   },
   "outputs": [],
   "source": []
  },
  {
   "cell_type": "markdown",
   "id": "29ec3f13",
   "metadata": {
    "deletable": false,
    "editable": false,
    "nbgrader": {
     "cell_type": "markdown",
     "checksum": "4e190e4ddb3ddabed606565f3b776c5b",
     "grade": false,
     "grade_id": "cell-e8d7e8836e8a8d17",
     "locked": true,
     "schema_version": 3,
     "solution": false,
     "task": false
    }
   },
   "source": [
    "Provided is a string saved to the variable name `s1`. Create a dictionary named `counts` that contains each letter in `s1` and the number of times it occurs."
   ]
  },
  {
   "cell_type": "code",
   "execution_count": 5,
   "id": "4271deed",
   "metadata": {
    "deletable": false,
    "nbgrader": {
     "cell_type": "code",
     "checksum": "05966f04a491959d08875f3ba5e309d6",
     "grade": false,
     "grade_id": "cell-8b8b6d9af5515ca5",
     "locked": false,
     "schema_version": 3,
     "solution": true,
     "task": false
    },
    "tags": []
   },
   "outputs": [
    {
     "name": "stdout",
     "output_type": "stream",
     "text": [
      "{'h': 1, 'e': 1, 'l': 2, 'o': 1}\n"
     ]
    }
   ],
   "source": [
    "s1 = 'hello'\n",
    "counts = {}\n",
    "\n",
    "for letter in s1:\n",
    "    if letter not in counts:\n",
    "        counts[letter] = 0\n",
    "    counts[letter] += 1\n",
    "\n",
    "print(counts)"
   ]
  },
  {
   "cell_type": "code",
   "execution_count": null,
   "id": "25886917",
   "metadata": {
    "deletable": false,
    "editable": false,
    "nbgrader": {
     "cell_type": "code",
     "checksum": "c02931a65d8efe68d902dc9e541fa63b",
     "grade": true,
     "grade_id": "cell-38a7e977dc21a1f9",
     "locked": true,
     "points": 1,
     "schema_version": 3,
     "solution": false,
     "task": false
    }
   },
   "outputs": [],
   "source": []
  },
  {
   "cell_type": "markdown",
   "id": "f61e525d",
   "metadata": {
    "deletable": false,
    "editable": false,
    "nbgrader": {
     "cell_type": "markdown",
     "checksum": "9ccafc7b3598d7a099331e30a9c7e258",
     "grade": false,
     "grade_id": "cell-c0e84007fd36c379",
     "locked": true,
     "schema_version": 3,
     "solution": false,
     "task": false
    }
   },
   "source": [
    "Create a dictionary, `freq_words`, that contains each word in string `str1` as the key and its frequency as the value."
   ]
  },
  {
   "cell_type": "code",
   "execution_count": 7,
   "id": "79f7e617",
   "metadata": {
    "deletable": false,
    "nbgrader": {
     "cell_type": "code",
     "checksum": "93ea74ef9b15179dd37d2198738cc2a5",
     "grade": false,
     "grade_id": "cell-6370e4c1b9cf6220",
     "locked": false,
     "schema_version": 3,
     "solution": true,
     "task": false
    },
    "tags": []
   },
   "outputs": [
    {
     "name": "stdout",
     "output_type": "stream",
     "text": [
      "{'I': 2, 'wish': 2, 'with': 2, 'all': 1, 'my': 1, 'heart': 1, 'to': 1, 'fly': 1, 'dragons': 1, 'in': 1, 'a': 1, 'land': 1, 'apart': 1}\n"
     ]
    }
   ],
   "source": [
    "str1 = 'I wish I wish with all my heart to fly with dragons in a land apart'\n",
    "words = str1.split()\n",
    "\n",
    "freq_words = {}\n",
    "\n",
    "for word in words:\n",
    "    if word not in freq_words:\n",
    "        freq_words[word] = 0\n",
    "    freq_words[word] += 1\n",
    "\n",
    "print(freq_words)"
   ]
  },
  {
   "cell_type": "code",
   "execution_count": null,
   "id": "3325d92e",
   "metadata": {
    "deletable": false,
    "editable": false,
    "nbgrader": {
     "cell_type": "code",
     "checksum": "474582d099d579d90ba969adb6a1f3d6",
     "grade": true,
     "grade_id": "cell-fffebcf0817fb5a3",
     "locked": true,
     "points": 1,
     "schema_version": 3,
     "solution": false,
     "task": false
    }
   },
   "outputs": [],
   "source": []
  },
  {
   "cell_type": "markdown",
   "id": "2a3d3936",
   "metadata": {
    "deletable": false,
    "editable": false,
    "nbgrader": {
     "cell_type": "markdown",
     "checksum": "f2b1eb077ccb42f701acb49972b7f5e0",
     "grade": false,
     "grade_id": "cell-c927a113e6065fed",
     "locked": true,
     "schema_version": 3,
     "solution": false,
     "task": false
    }
   },
   "source": [
    "Create a dictionary called `wrd_d` from the string `sent`, so that the key is a word and the value is how many times you have seen that word."
   ]
  },
  {
   "cell_type": "code",
   "execution_count": 9,
   "id": "1f9c9191",
   "metadata": {
    "deletable": false,
    "nbgrader": {
     "cell_type": "code",
     "checksum": "aae1bfc2a3ad618c1359ffc7ef7ad0b1",
     "grade": false,
     "grade_id": "cell-3dd923884b3562c5",
     "locked": false,
     "schema_version": 3,
     "solution": true,
     "task": false
    },
    "tags": []
   },
   "outputs": [
    {
     "name": "stdout",
     "output_type": "stream",
     "text": [
      "{'Singing': 1, 'in': 2, 'the': 2, 'rain': 2, 'and': 1, 'playing': 1, 'are': 1, 'two': 1, 'entirely': 1, 'different': 1, 'situations': 1, 'but': 1, 'both': 1, 'can': 1, 'be': 1, 'good': 1}\n"
     ]
    }
   ],
   "source": [
    "sent = 'Singing in the rain and playing in the rain are two entirely different situations but both can be good'\n",
    "words = sent.split()\n",
    "\n",
    "wrd_d = {}\n",
    "\n",
    "for word in words:\n",
    "    if word not in wrd_d:\n",
    "        wrd_d[word] = 0\n",
    "    wrd_d[word] += 1\n",
    "\n",
    "print(wrd_d)"
   ]
  },
  {
   "cell_type": "code",
   "execution_count": null,
   "id": "04202d38",
   "metadata": {
    "deletable": false,
    "editable": false,
    "nbgrader": {
     "cell_type": "code",
     "checksum": "09d0b6a6afa58bea59c937cd5dc4a86b",
     "grade": true,
     "grade_id": "cell-b77327c91f457b27",
     "locked": true,
     "points": 1,
     "schema_version": 3,
     "solution": false,
     "task": false
    }
   },
   "outputs": [],
   "source": []
  },
  {
   "cell_type": "markdown",
   "id": "2011e747",
   "metadata": {
    "deletable": false,
    "editable": false,
    "nbgrader": {
     "cell_type": "markdown",
     "checksum": "602b24e6b2221b2a67c5426319e8b4b6",
     "grade": false,
     "grade_id": "cell-f88ae84429af901c",
     "locked": true,
     "schema_version": 3,
     "solution": false,
     "task": false
    }
   },
   "source": [
    "Create the dictionary `characters` that shows each character from the string `sally` and its frequency. Then, find the most frequent letter based on the dictionary. Assign this letter to the variable `best_char`."
   ]
  },
  {
   "cell_type": "code",
   "execution_count": 24,
   "id": "df5e5133",
   "metadata": {
    "deletable": false,
    "nbgrader": {
     "cell_type": "code",
     "checksum": "210d4e1a63a1aff0fda955eb3b8b5705",
     "grade": false,
     "grade_id": "cell-076211e0a91d52b2",
     "locked": false,
     "schema_version": 3,
     "solution": true,
     "task": false
    },
    "tags": []
   },
   "outputs": [
    {
     "name": "stdout",
     "output_type": "stream",
     "text": [
      "s\n"
     ]
    }
   ],
   "source": [
    "sally = 'sally sells sea shells by the sea shore'\n",
    "characters = {}\n",
    "\n",
    "for character in sally:\n",
    "    if character not in characters:\n",
    "        characters[character] = 0\n",
    "    characters[character] += 1\n",
    "\n",
    "keys = list(characters.keys())\n",
    "best_char = keys[0]\n",
    "\n",
    "for key in keys:\n",
    "    if characters[key] > characters[best_char]:\n",
    "        best_char = key\n",
    "\n",
    "print(best_char)"
   ]
  },
  {
   "cell_type": "code",
   "execution_count": null,
   "id": "6d055ff6",
   "metadata": {
    "deletable": false,
    "editable": false,
    "nbgrader": {
     "cell_type": "code",
     "checksum": "153d274889abe3da26dff41f956fbbee",
     "grade": true,
     "grade_id": "cell-29e7463079387e6f",
     "locked": true,
     "points": 1,
     "schema_version": 3,
     "solution": false,
     "task": false
    }
   },
   "outputs": [],
   "source": []
  },
  {
   "cell_type": "markdown",
   "id": "a174655d",
   "metadata": {
    "deletable": false,
    "editable": false,
    "nbgrader": {
     "cell_type": "markdown",
     "checksum": "b2514d72776666690db153c843e207a3",
     "grade": false,
     "grade_id": "cell-1df9e5cf9acf2f6f",
     "locked": true,
     "schema_version": 3,
     "solution": false,
     "task": false
    }
   },
   "source": [
    "Find the least frequent letter. Create the dictionary `characters` that shows each character from string `sally` and its frequency. Then, find the least frequent letter in the string and assign the letter to the variable `worst_char`."
   ]
  },
  {
   "cell_type": "code",
   "execution_count": 19,
   "id": "692e5962",
   "metadata": {
    "deletable": false,
    "nbgrader": {
     "cell_type": "code",
     "checksum": "809a5bd2d99e4c52a1e5dd9af3fa5b04",
     "grade": false,
     "grade_id": "cell-0f3138d35277b0e5",
     "locked": false,
     "schema_version": 3,
     "solution": true,
     "task": false
    },
    "tags": []
   },
   "outputs": [
    {
     "name": "stdout",
     "output_type": "stream",
     "text": [
      "n\n",
      "{'s': 8, 'a': 5, 'l': 6, 'y': 3, ' ': 11, 'e': 7, 'h': 4, 'b': 2, 't': 2, 'o': 2, 'r': 2, 'n': 1, 'd': 2}\n"
     ]
    }
   ],
   "source": [
    "sally = 'sally sells sea shells by the sea shore and by the road'\n",
    "characters = {}\n",
    "\n",
    "for character in sally:\n",
    "    if character not in characters:\n",
    "        characters[character] = 0\n",
    "    characters[character] += 1\n",
    "\n",
    "keys = list(characters.keys())\n",
    "worst_char = keys[0]\n",
    "\n",
    "for key in keys:\n",
    "    if characters[key] < characters[worst_char]:\n",
    "        worst_char = key\n",
    "\n",
    "print(worst_char)\n",
    "print(characters)"
   ]
  },
  {
   "cell_type": "code",
   "execution_count": null,
   "id": "46fe011d",
   "metadata": {
    "deletable": false,
    "editable": false,
    "nbgrader": {
     "cell_type": "code",
     "checksum": "31a1010cb1222ccd290eb35bc6878142",
     "grade": true,
     "grade_id": "cell-81bcdaa409766969",
     "locked": true,
     "points": 1,
     "schema_version": 3,
     "solution": false,
     "task": false
    }
   },
   "outputs": [],
   "source": []
  },
  {
   "cell_type": "markdown",
   "id": "4b6df1af",
   "metadata": {
    "deletable": false,
    "editable": false,
    "nbgrader": {
     "cell_type": "markdown",
     "checksum": "98817433a2b6c3d271e5a74272657729",
     "grade": false,
     "grade_id": "cell-5bec2f78dff07944",
     "locked": true,
     "schema_version": 3,
     "solution": false,
     "task": false
    }
   },
   "source": [
    "Create a dictionary named `letter_counts` that contains each letter and the number of times it occurs in `string1`. \n",
    "\n",
    "**Challenge:** Letters should not be counted separately as upper-case and lower-case. Intead, all of them should be counted as lower-case."
   ]
  },
  {
   "cell_type": "code",
   "execution_count": 21,
   "id": "794bfa84",
   "metadata": {
    "deletable": false,
    "nbgrader": {
     "cell_type": "code",
     "checksum": "ffd1f0cd43fbb44571393d2e76082c6c",
     "grade": false,
     "grade_id": "cell-05b56592b2496f80",
     "locked": false,
     "schema_version": 3,
     "solution": true,
     "task": false
    },
    "tags": []
   },
   "outputs": [
    {
     "name": "stdout",
     "output_type": "stream",
     "text": [
      "{'t': 19, 'h': 11, 'e': 29, 'r': 12, ' ': 53, 'i': 14, 's': 15, 'a': 17, 'd': 7, 'n': 15, 'f': 9, 'o': 17, 'm': 4, ',': 4, 'w': 6, 'c': 3, 'k': 2, 'l': 11, 'u': 8, '.': 4, 'v': 3, 'y': 1, 'g': 1, 'b': 1}\n"
     ]
    }
   ],
   "source": [
    "string1 = \"There is a tide in the affairs of men, Which taken at the flood, leads on to fortune. Omitted, all the voyage of their life is bound in shallows and in miseries. On such a full sea are we now afloat. And we must take the current when it serves, or lose our ventures.\"\n",
    "letter_counts = {}\n",
    "\n",
    "string1 = string1.lower()\n",
    "\n",
    "for character in string1:\n",
    "    if character not in letter_counts:\n",
    "        letter_counts[character] = 0\n",
    "    letter_counts[character] += 1\n",
    "\n",
    "print(letter_counts)"
   ]
  },
  {
   "cell_type": "code",
   "execution_count": null,
   "id": "984bc880",
   "metadata": {
    "deletable": false,
    "editable": false,
    "nbgrader": {
     "cell_type": "code",
     "checksum": "3c449ea6ce4f57aeb47a075f405fe356",
     "grade": true,
     "grade_id": "cell-d01025e4e9d1d5d4",
     "locked": true,
     "points": 1,
     "schema_version": 3,
     "solution": false,
     "task": false
    }
   },
   "outputs": [],
   "source": []
  },
  {
   "cell_type": "markdown",
   "id": "413811dd",
   "metadata": {
    "deletable": false,
    "editable": false,
    "nbgrader": {
     "cell_type": "markdown",
     "checksum": "c4e78be565c43f094233dbd29b290139",
     "grade": false,
     "grade_id": "cell-b1343290cfe63fa7",
     "locked": true,
     "schema_version": 3,
     "solution": false,
     "task": false
    }
   },
   "source": [
    "Create a dictionary called `low_d` that keeps track of all the characters in the string `p` and notes how many times each character was seen. Make sure that there are no repeats of characters as keys, such that “T” and “t” are both seen as a “t” for example."
   ]
  },
  {
   "cell_type": "code",
   "execution_count": 15,
   "id": "de7cd693",
   "metadata": {
    "deletable": false,
    "nbgrader": {
     "cell_type": "code",
     "checksum": "333a7cbb88eb1b8f77fd02aac9d476f7",
     "grade": false,
     "grade_id": "cell-bd8cb8037e070dd7",
     "locked": false,
     "schema_version": 3,
     "solution": true,
     "task": false
    },
    "tags": []
   },
   "outputs": [
    {
     "name": "stdout",
     "output_type": "stream",
     "text": [
      "{'s': 5, 'u': 7, 'm': 3, 'e': 12, 'r': 3, ' ': 20, 'i': 3, 'a': 6, 'g': 3, 't': 9, 'o': 8, 'd': 1, '.': 2, 'y': 1, 'h': 6, 'v': 1, 'b': 2, 'c': 2, 'f': 3, 'l': 1, 'n': 1}\n"
     ]
    }
   ],
   "source": [
    "p = \"Summer is a great time to go outside. You have to be careful of the sun though because of the heat.\"\n",
    "low_d = {}\n",
    "\n",
    "p = p.lower()\n",
    "\n",
    "for character in p:\n",
    "    if character not in low_d:\n",
    "        low_d[character] = 0\n",
    "    low_d[character] += 1\n",
    "    \n",
    "print(low_d)"
   ]
  },
  {
   "cell_type": "code",
   "execution_count": null,
   "id": "3530fde3",
   "metadata": {
    "deletable": false,
    "editable": false,
    "nbgrader": {
     "cell_type": "code",
     "checksum": "6c3ea636db5e46ffb8c7a37b312b7b05",
     "grade": true,
     "grade_id": "cell-642520e26103eb1b",
     "locked": true,
     "points": 1,
     "schema_version": 3,
     "solution": false,
     "task": false
    }
   },
   "outputs": [],
   "source": []
  }
 ],
 "metadata": {
  "kernelspec": {
   "display_name": "Python 3 (ipykernel)",
   "language": "python",
   "name": "python3"
  },
  "language_info": {
   "codemirror_mode": {
    "name": "ipython",
    "version": 3
   },
   "file_extension": ".py",
   "mimetype": "text/x-python",
   "name": "python",
   "nbconvert_exporter": "python",
   "pygments_lexer": "ipython3",
   "version": "3.11.6"
  }
 },
 "nbformat": 4,
 "nbformat_minor": 5
}
