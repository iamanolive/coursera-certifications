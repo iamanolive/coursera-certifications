{
  "nbformat": 4,
  "nbformat_minor": 0,
  "metadata": {
    "colab": {
      "provenance": []
    },
    "kernelspec": {
      "name": "python3",
      "display_name": "Python 3"
    },
    "language_info": {
      "name": "python"
    }
  },
  "cells": [
    {
      "cell_type": "markdown",
      "source": [
        "## csv.writer"
      ],
      "metadata": {
        "id": "QKkUfgugSLnV"
      }
    },
    {
      "cell_type": "code",
      "source": [
        "import csv"
      ],
      "metadata": {
        "id": "-NnZKVMfhFDy"
      },
      "execution_count": null,
      "outputs": []
    },
    {
      "cell_type": "code",
      "execution_count": null,
      "metadata": {
        "id": "znTQYJE9OEgE"
      },
      "outputs": [],
      "source": [
        "with open(\"olympics.csv\", \"r\") as f:\n",
        "  reader = csv.reader(f)\n",
        "  for row in reader:\n",
        "    if row[5] != \"NA\":\n",
        "      print(f\"{row[0]}: {row[4]}; {row[5]}\")"
      ]
    },
    {
      "cell_type": "markdown",
      "source": [
        "## csv.DictWriter"
      ],
      "metadata": {
        "id": "F9FEVQu_S2q1"
      }
    },
    {
      "cell_type": "code",
      "source": [
        "import csv"
      ],
      "metadata": {
        "id": "Tmh_sghrTAFr"
      },
      "execution_count": null,
      "outputs": []
    },
    {
      "cell_type": "code",
      "source": [
        "olympians = [\n",
        "    (\"John Aalberg\", 31, \"Cross Country Skiing, 15KM\"),\n",
        "    (\"Minna Maarit Aalto\", 30, \"Sailing\"),\n",
        "    (\"Win Valdemar Aaltonen\", 54, \"Art Competitions\"),\n",
        "    (\"Wakako Abe\", 18, \"Cycling\")\n",
        "]\n",
        "\n",
        "outfile = open(\"reduced_olympics.csv\", \"w\")\n",
        "\n",
        "writer = csv.writer(outfile)\n",
        "writer.writerow([\"Name\", \"Age\", \"Sport\"])\n",
        "\n",
        "for olympian in olympians:\n",
        "  writer.writerow(olympian)\n",
        "\n",
        "outfile.close()"
      ],
      "metadata": {
        "id": "WJkYn9X4iUVz"
      },
      "execution_count": null,
      "outputs": []
    },
    {
      "cell_type": "code",
      "source": [
        "olympians = [\n",
        "    {\"Name\": \"John Aalberg\", \"Age\": 31, \"Sport\": \"Cross Country Skiing, 15KM\"},\n",
        "    {\"Name\": \"Minna Maarit Aalto\", \"Age\": 30, \"Sport\": \"Sailing\"},\n",
        "    {\"Name\": \"Win Valdemar Aaltonen\", \"Age\": 54, \"Sport\": \"Art Competitions\"},\n",
        "    {\"Name\": \"Wakako Abe\", \"Age\": 18, \"Sport\": \"Cycling\"}\n",
        "]\n",
        "\n",
        "outfile = open(\"reduced_olympics_2.csv\")\n",
        "\n",
        "writer = csv.DictWriter(outfile, olympians[0].keys())\n",
        "writer.writeheader()\n",
        "\n",
        "for olympian in olympians:\n",
        "  writer.writerow(olympian)\n",
        "\n",
        "outfile.close()"
      ],
      "metadata": {
        "id": "5bduX7r7uLge"
      },
      "execution_count": null,
      "outputs": []
    }
  ]
}