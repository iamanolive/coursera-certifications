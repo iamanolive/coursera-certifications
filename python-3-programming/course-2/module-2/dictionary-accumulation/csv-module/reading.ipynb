{
  "nbformat": 4,
  "nbformat_minor": 0,
  "metadata": {
    "colab": {
      "provenance": [],
      "authorship_tag": "ABX9TyP0qvx5Z/KmZBczHw9MkI3D",
      "include_colab_link": true
    },
    "kernelspec": {
      "name": "python3",
      "display_name": "Python 3"
    },
    "language_info": {
      "name": "python"
    }
  },
  "cells": [
    {
      "cell_type": "markdown",
      "metadata": {
        "id": "view-in-github",
        "colab_type": "text"
      },
      "source": [
        "<a href=\"https://colab.research.google.com/github/iamanolive/coursera-certifications/blob/main/python-3-programming/course-2/module-2/dictionary-accumulation/csv-module/reading.ipynb\" target=\"_parent\"><img src=\"https://colab.research.google.com/assets/colab-badge.svg\" alt=\"Open In Colab\"/></a>"
      ]
    },
    {
      "cell_type": "markdown",
      "source": [
        "## csv.reader"
      ],
      "metadata": {
        "id": "QKkUfgugSLnV"
      }
    },
    {
      "cell_type": "code",
      "source": [
        "import csv"
      ],
      "metadata": {
        "id": "-NnZKVMfhFDy"
      },
      "execution_count": null,
      "outputs": []
    },
    {
      "cell_type": "code",
      "execution_count": null,
      "metadata": {
        "id": "znTQYJE9OEgE"
      },
      "outputs": [],
      "source": [
        "with open(\"olympics.csv\", \"r\") as f:\n",
        "  reader = csv.reader(f)\n",
        "  for row in reader:\n",
        "    if row[5] != \"NA\":\n",
        "      print(f\"{row[0]}: {row[4]}; {row[5]}\")"
      ]
    },
    {
      "cell_type": "markdown",
      "source": [
        "## csv.DictReader"
      ],
      "metadata": {
        "id": "F9FEVQu_S2q1"
      }
    },
    {
      "cell_type": "code",
      "source": [
        "import csv"
      ],
      "metadata": {
        "id": "Tmh_sghrTAFr"
      },
      "execution_count": null,
      "outputs": []
    },
    {
      "cell_type": "code",
      "source": [
        "with open(\"olympics.csv\", \"r\") as f:\n",
        "  reader = csv.DictReader(f)\n",
        "  print(reader.fieldnames)\n",
        "  print(next(reader))\n",
        "  print(next(reader))"
      ],
      "metadata": {
        "id": "WJkYn9X4iUVz"
      },
      "execution_count": null,
      "outputs": []
    },
    {
      "cell_type": "code",
      "source": [
        "with open(\"olympics.csv\", \"r\") as f:\n",
        "  reader = csv.DictReader(f)\n",
        "  for row in reader:\n",
        "    if row[\"Medal\"] != \"NA\":\n",
        "      print(f\"{row['Name']}: {row['Event']}; {row['Medal']}\")"
      ],
      "metadata": {
        "id": "DJMt22IuS41X"
      },
      "execution_count": null,
      "outputs": []
    }
  ]
}