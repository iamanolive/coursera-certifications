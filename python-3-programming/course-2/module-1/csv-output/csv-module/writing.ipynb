{
  "nbformat": 4,
  "nbformat_minor": 0,
  "metadata": {
    "colab": {
      "provenance": [],
      "authorship_tag": "ABX9TyP8s4hEMyhbpgavFyJC8TM+",
      "include_colab_link": true
    },
    "kernelspec": {
      "name": "python3",
      "display_name": "Python 3"
    },
    "language_info": {
      "name": "python"
    }
  },
  "cells": [
    {
      "cell_type": "markdown",
      "metadata": {
        "id": "view-in-github",
        "colab_type": "text"
      },
      "source": [
        "<a href=\"https://colab.research.google.com/github/iamanolive/coursera-certifications/blob/main/python-3-programming/course-2/module-1/csv-output/csv-module/writing.ipynb\" target=\"_parent\"><img src=\"https://colab.research.google.com/assets/colab-badge.svg\" alt=\"Open In Colab\"/></a>"
      ]
    },
    {
      "cell_type": "markdown",
      "source": [
        "## writing a .csv file by hand"
      ],
      "metadata": {
        "id": "QKkUfgugSLnV"
      }
    },
    {
      "cell_type": "code",
      "execution_count": null,
      "metadata": {
        "id": "znTQYJE9OEgE"
      },
      "outputs": [],
      "source": [
        "olympians = [\n",
        "    (\"John Aalberg\", 31, \"Cross Country Skiing, 15KM\"),\n",
        "    (\"Minna Aaarit Aalto\", 30, \"Sailing\"),\n",
        "    (\"Win Valdemar Aaltonen\", 54, \"Art Competitions\"),\n",
        "    (\"Wakako Abe\", 18, \"Cycling\")\n",
        "]\n",
        "\n",
        "outfile = open(\"reduced_olympians.csv\", \"w\")\n",
        "outfile.write(\"Name,Age,Sport\")\n",
        "outfile.write(\"\\n\")\n",
        "\n",
        "for olympian in olympians:\n",
        "  row_string = f\"{olympian[0]}, {olympian[1]}, {olympian[2]}\"\n",
        "  outfile.write(row_string + \"\\n\")\n",
        "\n",
        "outfile.close()"
      ]
    },
    {
      "cell_type": "markdown",
      "source": [
        "## writing a .csv file with the csv module"
      ],
      "metadata": {
        "id": "F9FEVQu_S2q1"
      }
    },
    {
      "cell_type": "code",
      "source": [
        "import csv"
      ],
      "metadata": {
        "id": "Tmh_sghrTAFr"
      },
      "execution_count": 2,
      "outputs": []
    },
    {
      "cell_type": "code",
      "source": [
        "olympians = [\n",
        "    (\"John Aalberg\", 31, \"Cross Country Skiing, 15KM\"),\n",
        "    (\"Minna Aaarit Aalto\", 30, \"Sailing\"),\n",
        "    (\"Win Valdemar Aaltonen\", 54, \"Art Competitions\"),\n",
        "    (\"Wakako Abe\", 18, \"Cycling\")\n",
        "]\n",
        "\n",
        "outfile = open(\"reduced_olympians_2.csv\", \"w\")\n",
        "writer = csv.writer(outfile)\n",
        "writer.writerow([\"Name\", \"Age\", \"Sport\"])\n",
        "\n",
        "for olympian in olympians:\n",
        "  writer.writerow(olympian)\n",
        "\n",
        "outfile.close()"
      ],
      "metadata": {
        "id": "DJMt22IuS41X"
      },
      "execution_count": null,
      "outputs": []
    }
  ]
}