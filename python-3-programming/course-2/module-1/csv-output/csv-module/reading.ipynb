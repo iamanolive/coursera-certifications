{
  "nbformat": 4,
  "nbformat_minor": 0,
  "metadata": {
    "colab": {
      "provenance": [],
      "authorship_tag": "ABX9TyP8igZdDMxd2YIzAVj03zUm",
      "include_colab_link": true
    },
    "kernelspec": {
      "name": "python3",
      "display_name": "Python 3"
    },
    "language_info": {
      "name": "python"
    }
  },
  "cells": [
    {
      "cell_type": "markdown",
      "metadata": {
        "id": "view-in-github",
        "colab_type": "text"
      },
      "source": [
        "<a href=\"https://colab.research.google.com/github/iamanolive/coursera-certifications/blob/main/python-3-programming/course-2/module-1/csv-output/csv-module/reading.ipynb\" target=\"_parent\"><img src=\"https://colab.research.google.com/assets/colab-badge.svg\" alt=\"Open In Colab\"/></a>"
      ]
    },
    {
      "cell_type": "markdown",
      "source": [
        "## reading a .csv file by hand"
      ],
      "metadata": {
        "id": "QKkUfgugSLnV"
      }
    },
    {
      "cell_type": "code",
      "execution_count": null,
      "metadata": {
        "id": "znTQYJE9OEgE"
      },
      "outputs": [],
      "source": [
        "file_connection = open(\"olympics.csv\", \"r\")\n",
        "lines = file_connection.readlines()\n",
        "\n",
        "headers = lines[0]\n",
        "field_names = headers.strip().split(\",\")\n",
        "print(field_names)\n",
        "\n",
        "for row in lines[1:]:\n",
        "  row_values = row.strip().split(\",\")\n",
        "  if row_values[5] != \"NA\":\n",
        "    print(f\"{row_values[0]: {row_values[4]}; }\")"
      ]
    },
    {
      "cell_type": "markdown",
      "source": [
        "## reading a .csv file with the csv module"
      ],
      "metadata": {
        "id": "F9FEVQu_S2q1"
      }
    },
    {
      "cell_type": "code",
      "source": [
        "import csv"
      ],
      "metadata": {
        "id": "Tmh_sghrTAFr"
      },
      "execution_count": 2,
      "outputs": []
    },
    {
      "cell_type": "code",
      "source": [
        "file_connection = open(\"olympics.csv\", \"r\")\n",
        "reader = csv.reader(file_connection)\n",
        "rows = list(reader)\n",
        "headers = rows[0]\n",
        "print(headers)\n",
        "\n",
        "for row_values in rows[1:]:\n",
        "  if row_values[5] != \"NA\":\n",
        "    print(f\"{row_values[0]: row_values[4]; {row_values[5]}}\")"
      ],
      "metadata": {
        "id": "DJMt22IuS41X"
      },
      "execution_count": null,
      "outputs": []
    },
    {
      "cell_type": "markdown",
      "source": [
        "## more elegant version"
      ],
      "metadata": {
        "id": "EqFp410ATYPm"
      }
    },
    {
      "cell_type": "code",
      "source": [
        "with open(\"olympics.csv\", \"r\") as f:\n",
        "  reader = csv.reader(f)\n",
        "  headers = next(reader)\n",
        "  print(headers)\n",
        "  for row in reader:\n",
        "    if row[5] != \"NA\":\n",
        "      print(f\"{row[0]}: {row[4]}; {row[5]}\")"
      ],
      "metadata": {
        "id": "mPMRyXjDTZX4"
      },
      "execution_count": null,
      "outputs": []
    }
  ]
}